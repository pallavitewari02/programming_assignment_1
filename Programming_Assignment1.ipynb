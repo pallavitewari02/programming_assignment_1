{
 "cells": [
  {
   "cell_type": "code",
   "execution_count": 2,
   "id": "6c194d3e",
   "metadata": {},
   "outputs": [
    {
     "name": "stdout",
     "output_type": "stream",
     "text": [
      "Hello Python\n"
     ]
    }
   ],
   "source": [
    "print(\"Hello Python\")"
   ]
  },
  {
   "cell_type": "code",
   "execution_count": null,
   "id": "996d03e3",
   "metadata": {},
   "outputs": [],
   "source": [
    "# q2.Write a Python program to do arithmetical operations addition and division.?"
   ]
  },
  {
   "cell_type": "code",
   "execution_count": 3,
   "id": "0e899489",
   "metadata": {},
   "outputs": [
    {
     "name": "stdout",
     "output_type": "stream",
     "text": [
      "15\n",
      "2.0\n"
     ]
    }
   ],
   "source": [
    "a=10\n",
    "b=5\n",
    "print(a+b)\n",
    "print(a/b)"
   ]
  },
  {
   "cell_type": "code",
   "execution_count": null,
   "id": "59c34202",
   "metadata": {},
   "outputs": [],
   "source": [
    "# q3.Write a Python program to find the area of a triangle?"
   ]
  },
  {
   "cell_type": "code",
   "execution_count": 4,
   "id": "70f7e716",
   "metadata": {},
   "outputs": [
    {
     "name": "stdout",
     "output_type": "stream",
     "text": [
      "66.0\n"
     ]
    }
   ],
   "source": [
    "l=12\n",
    "b=11\n",
    "triangle_area=(1/2*l*b)\n",
    "print(triangle_area)"
   ]
  },
  {
   "cell_type": "code",
   "execution_count": null,
   "id": "b733d7b5",
   "metadata": {},
   "outputs": [],
   "source": [
    "# q4. Write a Python program to swap two variables?"
   ]
  },
  {
   "cell_type": "code",
   "execution_count": 5,
   "id": "182cd513",
   "metadata": {},
   "outputs": [
    {
     "name": "stdout",
     "output_type": "stream",
     "text": [
      "2\n",
      "1\n"
     ]
    }
   ],
   "source": [
    "a=1\n",
    "b=2\n",
    "# swapping value of a&b using temp variable\n",
    "temp=a\n",
    "a=b\n",
    "b=temp\n",
    "print(a)\n",
    "print(b)"
   ]
  },
  {
   "cell_type": "code",
   "execution_count": null,
   "id": "59b532f3",
   "metadata": {},
   "outputs": [],
   "source": [
    "# q5.Write a Python program to generate a random number?"
   ]
  },
  {
   "cell_type": "code",
   "execution_count": 2,
   "id": "e1913542",
   "metadata": {},
   "outputs": [
    {
     "name": "stdout",
     "output_type": "stream",
     "text": [
      "6\n"
     ]
    }
   ],
   "source": [
    "import random\n",
    "\n",
    "print(random.randint (1,20))#will generate random integer between 1-20"
   ]
  },
  {
   "cell_type": "code",
   "execution_count": 10,
   "id": "0e7261be",
   "metadata": {},
   "outputs": [
    {
     "name": "stdout",
     "output_type": "stream",
     "text": [
      "0.35122318974497146\n"
     ]
    }
   ],
   "source": [
    "print(random.random ()) #will generate random float number between 0-1"
   ]
  },
  {
   "cell_type": "code",
   "execution_count": 3,
   "id": "4ba34468",
   "metadata": {},
   "outputs": [
    {
     "name": "stdout",
     "output_type": "stream",
     "text": [
      "14.00398333925358\n"
     ]
    }
   ],
   "source": [
    "print(random.uniform(10,20)) #will generate random float number in between 10-20"
   ]
  }
 ],
 "metadata": {
  "kernelspec": {
   "display_name": "Python 3 (ipykernel)",
   "language": "python",
   "name": "python3"
  },
  "language_info": {
   "codemirror_mode": {
    "name": "ipython",
    "version": 3
   },
   "file_extension": ".py",
   "mimetype": "text/x-python",
   "name": "python",
   "nbconvert_exporter": "python",
   "pygments_lexer": "ipython3",
   "version": "3.9.12"
  }
 },
 "nbformat": 4,
 "nbformat_minor": 5
}
